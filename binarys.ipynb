{
  "nbformat": 4,
  "nbformat_minor": 0,
  "metadata": {
    "colab": {
      "provenance": []
    },
    "kernelspec": {
      "name": "python3",
      "display_name": "Python 3"
    },
    "language_info": {
      "name": "python"
    }
  },
  "cells": [
    {
      "cell_type": "code",
      "source": [
        "\n",
        "print(\"A idéia desse código é usar uma busca binária onde o array é ordenado com um quicksort\\njá que a amanda nao me deixou usar a função sort do python :(\")\n"
      ],
      "metadata": {
        "colab": {
          "base_uri": "https://localhost:8080/"
        },
        "id": "KWAYMQbOASnu",
        "outputId": "59931d4c-6985-42f0-bcc8-7005f74bd418"
      },
      "execution_count": 108,
      "outputs": [
        {
          "output_type": "stream",
          "name": "stdout",
          "text": [
            "A idéia desse código é usar uma busca binária onde o array é ordenado com um quicksort\n",
            "já que a amanda nao me deixou usar a função sort do python :(\n"
          ]
        }
      ]
    },
    {
      "cell_type": "code",
      "execution_count": 98,
      "metadata": {
        "id": "2QWAQvWQpdA2"
      },
      "outputs": [],
      "source": [
        "\n",
        "def partition(arr, low, high, indices):\n",
        "    \"\"\"\n",
        "    Particiona o array com base no elemento pivô.\n",
        "    Os elementos menores que o pivô ficarão à esquerda e os maiores à direita.\n",
        "    Além de particionar o array, mantém também o array de índices correspondente.\n",
        "    \"\"\"\n",
        "    pivot = arr[high]\n",
        "    i = low - 1\n",
        "    for j in range(low, high):\n",
        "        if arr[j] <= pivot:\n",
        "            i += 1\n",
        "            # Troca elementos no array\n",
        "            arr[i], arr[j] = arr[j], arr[i]\n",
        "            # Troca índices para manter a correspondência com os elementos\n",
        "            indices[i], indices[j] = indices[j], indices[i]\n",
        "    arr[i + 1], arr[high] = arr[high], arr[i + 1]\n",
        "    indices[i + 1], indices[high] = indices[high], indices[i + 1]\n",
        "    return i + 1"
      ]
    },
    {
      "cell_type": "code",
      "source": [
        "def quicksort(arr, low, high, indices):\n",
        "    \"\"\"\n",
        "    Função recursiva para ordenar o array usando o algoritmo quicksort.\n",
        "    \"\"\"\n",
        "    if low < high:\n",
        "        # Particiona o array\n",
        "        pi = partition(arr, low, high, indices)\n",
        "        # Ordena recursivamente as partições esquerda e direita\n",
        "        quicksort(arr, low, pi - 1, indices)\n",
        "        quicksort(arr, pi + 1, high, indices)"
      ],
      "metadata": {
        "id": "yXjmQhXkr_2_"
      },
      "execution_count": 99,
      "outputs": []
    },
    {
      "cell_type": "code",
      "source": [
        "def binarySearch(arr, target):\n",
        "    \"\"\"\n",
        "    Realiza busca binária no array ordenado para encontrar todas as ocorrências do valor alvo.\n",
        "    Retorna uma lista contendo índices de todas as ocorrências do valor alvo.\n",
        "    \"\"\"\n",
        "    # Cria uma lista de tuplas contendo elementos e seus índices originais (O código estava retornando os índices ordenados)\n",
        "    indices = [(arr[i], i) for i in range(len(arr))]\n",
        "    # Ordena o array usando o algoritmo quicksort\n",
        "    quicksort(arr, 0, len(arr)-1, indices)\n",
        "\n",
        "    # Inicializa ponteiros para busca binária\n",
        "    low = 0\n",
        "    high = len(arr) - 1\n",
        "    result_indices = [] # A lista mostra todas as ocorrências de um elemento no array, caso ele esteja duplicado\n",
        "\n",
        "    while low <= high:\n",
        "        mid = low + (high - low) // 2\n",
        "\n",
        "        if arr[mid] == target:\n",
        "            # Adiciona o índice do elemento encontrado à lista de resultados\n",
        "            result_indices.append(indices[mid][1])\n",
        "            # Verifica outras ocorrências à esquerda\n",
        "            left = mid - 1\n",
        "            while left >= 0 and arr[left] == target:\n",
        "                result_indices.append(indices[left][1])\n",
        "                left -= 1\n",
        "            # Verifica outras ocorrências à direita\n",
        "            right = mid + 1\n",
        "            while right < len(arr) and arr[right] == target:\n",
        "                result_indices.append(indices[right][1])\n",
        "                right += 1\n",
        "            # Retorna a lista de índices\n",
        "            return result_indices\n",
        "        elif arr[mid] < target:\n",
        "            low = mid + 1\n",
        "        else:\n",
        "            high = mid - 1\n",
        "\n",
        "    # Se o alvo não for encontrado, retorna uma lista vazia\n",
        "    return result_indices"
      ],
      "metadata": {
        "id": "O5P671-LsDhe"
      },
      "execution_count": 100,
      "outputs": []
    },
    {
      "cell_type": "code",
      "source": [
        "# Exemplo de uso:\n",
        "arr = [13, 5, 7, 1, 11, 3, 9, 7]\n",
        "alvo = 7\n",
        "\n",
        "resultado = binarySearch(arr, alvo)\n",
        "\n",
        "#Se resultado == True\n",
        "if resultado:\n",
        "    print(\"Elemento está presente nos índices:\", resultado)\n",
        "\n",
        "# Se resultado == False\n",
        "else:\n",
        "    print(\"Elemento não está presente no array\")"
      ],
      "metadata": {
        "colab": {
          "base_uri": "https://localhost:8080/"
        },
        "id": "ok85JGwssJ4H",
        "outputId": "681640bb-af07-4ac7-ad26-54d353fe15c4"
      },
      "execution_count": 101,
      "outputs": [
        {
          "output_type": "stream",
          "name": "stdout",
          "text": [
            "Elemento está presente nos índices: [2, 7]\n"
          ]
        }
      ]
    }
  ]
}