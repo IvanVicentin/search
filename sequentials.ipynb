{
  "nbformat": 4,
  "nbformat_minor": 0,
  "metadata": {
    "colab": {
      "provenance": []
    },
    "kernelspec": {
      "name": "python3",
      "display_name": "Python 3"
    },
    "language_info": {
      "name": "python"
    }
  },
  "cells": [
    {
      "cell_type": "code",
      "source": [
        "print(\"Esse algoritmo faz uma busca sequencial em um array\\nvarrendo todos os elementos, um por um, até encontrar o alvo\")"
      ],
      "metadata": {
        "colab": {
          "base_uri": "https://localhost:8080/"
        },
        "id": "ekghuIycGCq9",
        "outputId": "db121910-3043-4a16-be48-2615f26bff39"
      },
      "execution_count": 13,
      "outputs": [
        {
          "output_type": "stream",
          "name": "stdout",
          "text": [
            "Esse algoritmo faz uma busca sequencial em um array\n",
            "varrendo todos os elementos, um por um, até encontrar o alvo\n"
          ]
        }
      ]
    },
    {
      "cell_type": "code",
      "execution_count": 7,
      "metadata": {
        "id": "eo2zMwW5C25V"
      },
      "outputs": [],
      "source": [
        "def sequential_search(arr, target):\n",
        "    \"\"\"\n",
        "    Faz uma busca sequencial no array para encontrar o elemento alvo\n",
        "    \"\"\"\n",
        "\n",
        "    # O loop for percorre todo o array e compara todos os elementos com o alvo\n",
        "    for i in range(len(arr)):\n",
        "        if arr[i] == target:\n",
        "            return i  # Retorna o indice se encontrado\n"
      ]
    },
    {
      "cell_type": "code",
      "source": [
        "# Examplo de uso:\n",
        "arr = [3, 5, 1, 9, 2, 7, 6]\n",
        "alvo = 15\n",
        "resultado = sequential_search(arr, alvo)\n",
        "\n",
        "# Se resultado == True\n",
        "if resultado:\n",
        "    print(f\"Elemento {alvo} encontrado no indice {resultado}.\")\n",
        "# Se resultado == False\n",
        "else:\n",
        "    print(f\"Elemento {alvo} nao foi encontrado na lista.\")"
      ],
      "metadata": {
        "colab": {
          "base_uri": "https://localhost:8080/"
        },
        "id": "8Y31jjyYEVQ6",
        "outputId": "831f6535-0d71-46f9-f357-81f0dfcb0226"
      },
      "execution_count": 9,
      "outputs": [
        {
          "output_type": "stream",
          "name": "stdout",
          "text": [
            "Elemento 15 nao foi encontrado na lista.\n"
          ]
        }
      ]
    }
  ]
}